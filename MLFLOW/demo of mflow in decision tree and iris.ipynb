{
 "cells": [
  {
   "cell_type": "raw",
   "id": "48b65db8-3b08-4358-931b-bd0852ff4231",
   "metadata": {},
   "source": []
  },
  {
   "cell_type": "code",
   "execution_count": 1,
   "id": "8cde4129-e15f-4e16-a42f-4d780d723a00",
   "metadata": {},
   "outputs": [
    {
     "name": "stdout",
     "output_type": "stream",
     "text": [
      "The directory d:\\praxis\\Term 2\\MLOP\\MLFLOW\\mlruns exists and is accessible.\n"
     ]
    },
    {
     "name": "stderr",
     "output_type": "stream",
     "text": [
      "2023/12/11 10:15:02 WARNING mlflow.utils.git_utils: Failed to import Git (the Git executable is probably not on your PATH), so Git SHA is not available. Error: Failed to initialize: Bad git executable.\n",
      "The git executable must be specified in one of the following ways:\n",
      "    - be included in your $PATH\n",
      "    - be set via $GIT_PYTHON_GIT_EXECUTABLE\n",
      "    - explicitly set via git.refresh()\n",
      "\n",
      "All git commands will error until this is rectified.\n",
      "\n",
      "This initial warning can be silenced or aggravated in the future by setting the\n",
      "$GIT_PYTHON_REFRESH environment variable. Use one of the following values:\n",
      "    - quiet|q|silence|s|none|n|0: for no warning or exception\n",
      "    - warn|w|warning|1: for a printed warning\n",
      "    - error|e|raise|r|2: for a raised exception\n",
      "\n",
      "Example:\n",
      "    export GIT_PYTHON_REFRESH=quiet\n",
      "\n"
     ]
    },
    {
     "name": "stdout",
     "output_type": "stream",
     "text": [
      "Model accuracy: 1.0\n",
      "Model F1 score: 1.0\n"
     ]
    }
   ],
   "source": [
    "import os\n",
    "import mlflow\n",
    "import mlflow.sklearn\n",
    "from sklearn import datasets\n",
    "from sklearn.model_selection import train_test_split\n",
    "from sklearn.tree import DecisionTreeClassifier\n",
    "from sklearn.metrics import accuracy_score, f1_score\n",
    "\n",
    "# Load iris dataset\n",
    "iris = datasets.load_iris()\n",
    "X = iris.data\n",
    "y = iris.target\n",
    "\n",
    "# Split the data into training and test sets\n",
    "X_train, X_test, y_train, y_test = train_test_split(X, y, test_size=0.3, random_state=42)\n",
    "\n",
    "# Get the current working directory\n",
    "cwd = os.getcwd()\n",
    "\n",
    "# Create a subdirectory for MLflow\n",
    "mlflow_dir = os.path.join(cwd, \"mlruns\")\n",
    "\n",
    "# Check if the directory exists and is accessible\n",
    "if os.access(mlflow_dir, os.R_OK):\n",
    "    print(f\"The directory {mlflow_dir} exists and is accessible.\")\n",
    "else:\n",
    "    print(f\"The directory {mlflow_dir} does not exist or is not accessible.\")\n",
    "    # Create the directory if it doesn't exist\n",
    "    os.makedirs(mlflow_dir, exist_ok=True)\n",
    "\n",
    "# Set the tracking URI to the MLflow directory\n",
    "mlflow.set_tracking_uri('file://' + mlflow_dir)\n",
    "\n",
    "# Set the tracking URI to the local tracking server\n",
    "mlflow.set_tracking_uri('http://localhost:5000')\n",
    "\n",
    "# Define the experiment name\n",
    "experiment_name = \"iris_experiment\"\n",
    "\n",
    "# Check if the experiment exists\n",
    "experiment = mlflow.get_experiment_by_name(experiment_name)\n",
    "\n",
    "# Check if the experiment exists\n",
    "experiment = mlflow.get_experiment_by_name(experiment_name)\n",
    "\n",
    "if experiment is None:\n",
    "    # If the experiment does not exist, create it\n",
    "    mlflow.create_experiment(experiment_name)\n",
    "else:\n",
    "    # Set the experiment\n",
    "    mlflow.set_experiment(experiment_name)\n",
    "\n",
    "# Set the experiment\n",
    "mlflow.set_experiment(experiment_name)\n",
    "\n",
    "# Start a new MLflow run\n",
    "with mlflow.start_run(run_name=\"Iris_DT_Experiment\"):\n",
    "    # Define and train the model\n",
    "    clf = DecisionTreeClassifier()\n",
    "    clf.fit(X_train, y_train)\n",
    "\n",
    "    # Make predictions\n",
    "    predictions = clf.predict(X_test)\n",
    "\n",
    "    # Calculate metrics\n",
    "    accuracy = accuracy_score(y_test, predictions)\n",
    "    f1 = f1_score(y_test, predictions, average='macro')\n",
    "\n",
    "    # Log model\n",
    "    mlflow.sklearn.log_model(clf, \"model\")\n",
    "\n",
    "    # Log metrics\n",
    "    mlflow.log_metric(\"accuracy\", accuracy)\n",
    "    mlflow.log_metric(\"f1\", f1)\n",
    "\n",
    "    print(f\"Model accuracy: {accuracy}\")\n",
    "    print(f\"Model F1 score: {f1}\")\n"
   ]
  },
  {
   "cell_type": "code",
   "execution_count": null,
   "id": "36bf67cc-eab1-4981-9472-0a9c2aae5856",
   "metadata": {},
   "outputs": [],
   "source": []
  }
 ],
 "metadata": {
  "kernelspec": {
   "display_name": "Python 3 (ipykernel)",
   "language": "python",
   "name": "python3"
  },
  "language_info": {
   "codemirror_mode": {
    "name": "ipython",
    "version": 3
   },
   "file_extension": ".py",
   "mimetype": "text/x-python",
   "name": "python",
   "nbconvert_exporter": "python",
   "pygments_lexer": "ipython3",
   "version": "3.12.0"
  }
 },
 "nbformat": 4,
 "nbformat_minor": 5
}
