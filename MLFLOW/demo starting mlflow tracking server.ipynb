{
 "cells": [
  {
   "cell_type": "raw",
   "id": "a88c5ef0-d49d-4e0f-a48b-ba30f2f8429e",
   "metadata": {},
   "source": [
    "# This script sets up an MLflow tracking environment in a local directory, creates an experiment (if it doesn’t already exist), starts a new run in that experiment, logs a parameter and a metric to the run, and prints the MLflow version."
   ]
  },
  {
   "cell_type": "raw",
   "id": "e843b831-6a76-45c6-9fc3-70e05b4df04e",
   "metadata": {},
   "source": [
    "Before executing this code, ensure that MLflow is installed in your Python environment. You can install it using pip (pip install mlflow) or conda (conda install -c conda-forge mlflow). Also, make sure you have write access to the current working directory, as the script creates a subdirectory there."
   ]
  },
  {
   "cell_type": "raw",
   "id": "9d8294dd-b9dd-4e5b-9edd-81e667d25a62",
   "metadata": {},
   "source": [
    "In Anaconda Prompt, navigate to the folder which has this file, execute this command\n",
    "\n",
    "mlflow ui\n",
    "Then in a browser, go to URI\n",
    "In the MLflow UI, you should see a new experiment named “play_experiment”. Inside this experiment, there should be a new run. If you click on the run, you should see the logged parameter (“param1” with a value of 5) and the logged metric (“foo” with a value of 1). The timestamp and user info for the run will also be available. If you’ve run the script multiple times, each run will be listed separately under the experiment."
   ]
  },
  {
   "cell_type": "code",
   "execution_count": 3,
   "id": "3000fd4a-0f10-488c-9256-7f0331629368",
   "metadata": {},
   "outputs": [
    {
     "name": "stdout",
     "output_type": "stream",
     "text": [
      "The directory d:\\praxis\\Term 2\\MLOP\\MLFLOW\\mlruns exists and is accessible.\n",
      "2.9.1\n"
     ]
    }
   ],
   "source": [
    "\n",
    "import os\n",
    "import mlflow\n",
    "\n",
    "# Get the current working directory\n",
    "cwd = os.getcwd()\n",
    "\n",
    "# Create a subdirectory for MLflow\n",
    "mlflow_dir = os.path.join(cwd, \"mlruns\")\n",
    "\n",
    "# Check if the directory exists and is accessible\n",
    "if os.access(mlflow_dir, os.R_OK):\n",
    "    print(f\"The directory {mlflow_dir} exists and is accessible.\")\n",
    "else:\n",
    "    print(f\"The directory {mlflow_dir} does not exist or is not accessible.\")\n",
    "    # Create the directory if it doesn't exist\n",
    "    os.makedirs(mlflow_dir, exist_ok=True)\n",
    "\n",
    "# Set the tracking URI to the MLflow directory\n",
    "mlflow.set_tracking_uri('file://' + mlflow_dir)\n",
    "\n",
    "# Set the tracking URI to the local tracking server\n",
    "# mlflow.set_tracking_uri('http://localhost:5000')\n",
    "\n",
    "# Define the experiment name\n",
    "experiment_name = \"play_experiment\"\n",
    "\n",
    "# Check if the experiment exists\n",
    "experiment = mlflow.get_experiment_by_name(experiment_name)\n",
    "\n",
    "if experiment is None:\n",
    "    # If the experiment does not exist, create it\n",
    "    mlflow.create_experiment(experiment_name)\n",
    "else:\n",
    "    # Set the experiment\n",
    "    mlflow.set_experiment(experiment_name)\n",
    "\n",
    "# Set the experiment\n",
    "mlflow.set_experiment(experiment_name)\n",
    "\n",
    "# Start a new MLflow run\n",
    "with mlflow.start_run():\n",
    "    # Log a parameter (key-value pair)\n",
    "    mlflow.log_param(\"param1\", 5)\n",
    "\n",
    "    # Log a metric; metrics can be updated throughout the run\n",
    "    mlflow.log_metric(\"foo\", 1)\n",
    "\n",
    "print(mlflow.__version__)\n"
   ]
  },
  {
   "cell_type": "code",
   "execution_count": null,
   "id": "e149f547",
   "metadata": {},
   "outputs": [],
   "source": []
  }
 ],
 "metadata": {
  "kernelspec": {
   "display_name": "Python 3 (ipykernel)",
   "language": "python",
   "name": "python3"
  },
  "language_info": {
   "codemirror_mode": {
    "name": "ipython",
    "version": 3
   },
   "file_extension": ".py",
   "mimetype": "text/x-python",
   "name": "python",
   "nbconvert_exporter": "python",
   "pygments_lexer": "ipython3",
   "version": "3.12.0"
  }
 },
 "nbformat": 4,
 "nbformat_minor": 5
}
